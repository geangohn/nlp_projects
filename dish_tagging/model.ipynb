{
 "cells": [
  {
   "cell_type": "markdown",
   "metadata": {},
   "source": [
    "**Author**: Ivan Maksimov (Ivan.Maksimov@skoltech.ru, telegram - @Ivan_maksimov)  \n",
    "**Topic**: Dish tagging  \n",
    "**Detailed topic description**: Tag dishes based on dish description and receipt  \n",
    "**Methodology**: \n",
    "- Fit baseline (Multinomial NB)\n",
    "- Fit word embedding + classifier on top \n",
    "- Fit Bi-directional LSTM embedding + classifier on top\n",
    "- Try pretrained embeddinbgs\n",
    "\n",
    "**Data**: taken from an open food databese: https://world.openfoodfacts.org/data. Btw, it is easier to download the same dataset from Kaggle: https://www.kaggle.com/openfoodfacts/world-food-facts \n",
    "  \n",
    "**Target metric**: F1-score with weighted averaging. Weighted - as there is class imbalance"
   ]
  },
  {
   "cell_type": "code",
   "execution_count": null,
   "metadata": {},
   "outputs": [],
   "source": [
    "!conda create -n nnlp_project python=3.7 anaconda\n",
    "!conda activate nnlp_project\n",
    "!pip install seaborn\n",
    "!pip install tqdm\n",
    "!conda install pytorch torchvision -c pytorch"
   ]
  },
  {
   "cell_type": "code",
   "execution_count": 15,
   "metadata": {},
   "outputs": [],
   "source": [
    "import re\n",
    "from collections import Counter\n",
    "from IPython.display import clear_output, HTML, display_html\n",
    "\n",
    "import matplotlib.pyplot as plt\n",
    "import numpy as np\n",
    "import pandas as pd\n",
    "import seaborn as sns\n",
    "\n",
    "from sklearn import metrics\n",
    "from sklearn.metrics import confusion_matrix\n",
    "from sklearn.model_selection import train_test_split\n",
    "from sklearn.feature_extraction.text import CountVectorizer, TfidfVectorizer\n",
    "from sklearn.feature_extraction.text import TfidfTransformer\n",
    "from sklearn.naive_bayes import MultinomialNB\n",
    "from tqdm import tnrange\n",
    "\n",
    "import torch, torch.nn as nn\n",
    "import torch.nn.functional as F\n",
    "from torch.autograd import Variable\n",
    "\n",
    "from src.data_cleansing import clean\n",
    "\n",
    "%matplotlib inline\n",
    "\n",
    "pd.set_option('display.max_columns', 200)"
   ]
  },
  {
   "cell_type": "markdown",
   "metadata": {},
   "source": [
    "## 1. Data reading and cleansing\n",
    "## 1. Data reading and cleansing"
   ]
  },
  {
   "cell_type": "code",
   "execution_count": 2,
   "metadata": {
    "scrolled": true
   },
   "outputs": [
    {
     "name": "stderr",
     "output_type": "stream",
     "text": [
      "//anaconda3/envs/nnlp_project/lib/python3.7/site-packages/IPython/core/interactiveshell.py:3051: DtypeWarning: Columns (0,3,5,19,20,24,25,26,27,28,36,37,38,39,48) have mixed types. Specify dtype option on import or set low_memory=False.\n",
      "  interactivity=interactivity, compiler=compiler, result=result)\n"
     ]
    },
    {
     "name": "stdout",
     "output_type": "stream",
     "text": [
      "full data count: 356027\n",
      "taking into account only dishes with product names: 338515\n",
      "taking into account only dishes with ingredients info: 282097\n",
      "taking into account only dishes with category: 86605\n",
      "taking into account only dishes with category in English: 83898\n",
      "taking into account only categories with value_count > 300: 79906\n",
      "taking into account only non-confusing categories: 79072\n",
      "taking into account only dishes with correct product_name (product name length >= 3): 79065\n",
      "taking into account only dishes with correct ingredients_text (ingredients text length >= 5): 78681\n"
     ]
    }
   ],
   "source": [
    "df = pd.read_csv('raw_data/en.openfoodfacts.org.products.tsv', sep='\\t')\n",
    "\n",
    "df = clean(df)"
   ]
  },
  {
   "cell_type": "markdown",
   "metadata": {},
   "source": [
    "**Note:** \"en:category_name\" is a standartized category in english across all categories and languages"
   ]
  },
  {
   "cell_type": "code",
   "execution_count": 3,
   "metadata": {},
   "outputs": [
    {
     "data": {
      "text/html": [
       "<div>\n",
       "<style scoped>\n",
       "    .dataframe tbody tr th:only-of-type {\n",
       "        vertical-align: middle;\n",
       "    }\n",
       "\n",
       "    .dataframe tbody tr th {\n",
       "        vertical-align: top;\n",
       "    }\n",
       "\n",
       "    .dataframe thead th {\n",
       "        text-align: right;\n",
       "    }\n",
       "</style>\n",
       "<table border=\"1\" class=\"dataframe\">\n",
       "  <thead>\n",
       "    <tr style=\"text-align: right;\">\n",
       "      <th></th>\n",
       "      <th>code</th>\n",
       "      <th>url</th>\n",
       "      <th>creator</th>\n",
       "      <th>created_t</th>\n",
       "      <th>created_datetime</th>\n",
       "      <th>last_modified_t</th>\n",
       "      <th>last_modified_datetime</th>\n",
       "      <th>product_name</th>\n",
       "      <th>generic_name</th>\n",
       "      <th>quantity</th>\n",
       "      <th>packaging</th>\n",
       "      <th>packaging_tags</th>\n",
       "      <th>brands</th>\n",
       "      <th>brands_tags</th>\n",
       "      <th>categories</th>\n",
       "      <th>categories_tags</th>\n",
       "      <th>categories_en</th>\n",
       "      <th>origins</th>\n",
       "      <th>origins_tags</th>\n",
       "      <th>manufacturing_places</th>\n",
       "      <th>manufacturing_places_tags</th>\n",
       "      <th>labels</th>\n",
       "      <th>labels_tags</th>\n",
       "      <th>labels_en</th>\n",
       "      <th>emb_codes</th>\n",
       "      <th>emb_codes_tags</th>\n",
       "      <th>first_packaging_code_geo</th>\n",
       "      <th>cities</th>\n",
       "      <th>cities_tags</th>\n",
       "      <th>purchase_places</th>\n",
       "      <th>stores</th>\n",
       "      <th>countries</th>\n",
       "      <th>countries_tags</th>\n",
       "      <th>countries_en</th>\n",
       "      <th>ingredients_text</th>\n",
       "      <th>allergens</th>\n",
       "      <th>allergens_en</th>\n",
       "      <th>traces</th>\n",
       "      <th>traces_tags</th>\n",
       "      <th>traces_en</th>\n",
       "      <th>serving_size</th>\n",
       "      <th>no_nutriments</th>\n",
       "      <th>additives_n</th>\n",
       "      <th>additives</th>\n",
       "      <th>additives_tags</th>\n",
       "      <th>additives_en</th>\n",
       "      <th>ingredients_from_palm_oil_n</th>\n",
       "      <th>ingredients_from_palm_oil</th>\n",
       "      <th>ingredients_from_palm_oil_tags</th>\n",
       "      <th>ingredients_that_may_be_from_palm_oil_n</th>\n",
       "      <th>ingredients_that_may_be_from_palm_oil</th>\n",
       "      <th>ingredients_that_may_be_from_palm_oil_tags</th>\n",
       "      <th>nutrition_grade_uk</th>\n",
       "      <th>nutrition_grade_fr</th>\n",
       "      <th>pnns_groups_1</th>\n",
       "      <th>pnns_groups_2</th>\n",
       "      <th>states</th>\n",
       "      <th>states_tags</th>\n",
       "      <th>states_en</th>\n",
       "      <th>main_category</th>\n",
       "      <th>main_category_en</th>\n",
       "      <th>image_url</th>\n",
       "      <th>image_small_url</th>\n",
       "      <th>energy_100g</th>\n",
       "      <th>energy-from-fat_100g</th>\n",
       "      <th>fat_100g</th>\n",
       "      <th>saturated-fat_100g</th>\n",
       "      <th>-butyric-acid_100g</th>\n",
       "      <th>-caproic-acid_100g</th>\n",
       "      <th>-caprylic-acid_100g</th>\n",
       "      <th>-capric-acid_100g</th>\n",
       "      <th>-lauric-acid_100g</th>\n",
       "      <th>-myristic-acid_100g</th>\n",
       "      <th>-palmitic-acid_100g</th>\n",
       "      <th>-stearic-acid_100g</th>\n",
       "      <th>-arachidic-acid_100g</th>\n",
       "      <th>-behenic-acid_100g</th>\n",
       "      <th>-lignoceric-acid_100g</th>\n",
       "      <th>-cerotic-acid_100g</th>\n",
       "      <th>-montanic-acid_100g</th>\n",
       "      <th>-melissic-acid_100g</th>\n",
       "      <th>monounsaturated-fat_100g</th>\n",
       "      <th>polyunsaturated-fat_100g</th>\n",
       "      <th>omega-3-fat_100g</th>\n",
       "      <th>-alpha-linolenic-acid_100g</th>\n",
       "      <th>-eicosapentaenoic-acid_100g</th>\n",
       "      <th>-docosahexaenoic-acid_100g</th>\n",
       "      <th>omega-6-fat_100g</th>\n",
       "      <th>-linoleic-acid_100g</th>\n",
       "      <th>-arachidonic-acid_100g</th>\n",
       "      <th>-gamma-linolenic-acid_100g</th>\n",
       "      <th>-dihomo-gamma-linolenic-acid_100g</th>\n",
       "      <th>omega-9-fat_100g</th>\n",
       "      <th>-oleic-acid_100g</th>\n",
       "      <th>-elaidic-acid_100g</th>\n",
       "      <th>-gondoic-acid_100g</th>\n",
       "      <th>-mead-acid_100g</th>\n",
       "      <th>-erucic-acid_100g</th>\n",
       "      <th>-nervonic-acid_100g</th>\n",
       "      <th>trans-fat_100g</th>\n",
       "      <th>cholesterol_100g</th>\n",
       "      <th>carbohydrates_100g</th>\n",
       "      <th>sugars_100g</th>\n",
       "      <th>-sucrose_100g</th>\n",
       "      <th>-glucose_100g</th>\n",
       "      <th>-fructose_100g</th>\n",
       "      <th>-lactose_100g</th>\n",
       "      <th>-maltose_100g</th>\n",
       "      <th>-maltodextrins_100g</th>\n",
       "      <th>starch_100g</th>\n",
       "      <th>polyols_100g</th>\n",
       "      <th>fiber_100g</th>\n",
       "      <th>proteins_100g</th>\n",
       "      <th>casein_100g</th>\n",
       "      <th>serum-proteins_100g</th>\n",
       "      <th>nucleotides_100g</th>\n",
       "      <th>salt_100g</th>\n",
       "      <th>sodium_100g</th>\n",
       "      <th>alcohol_100g</th>\n",
       "      <th>vitamin-a_100g</th>\n",
       "      <th>beta-carotene_100g</th>\n",
       "      <th>vitamin-d_100g</th>\n",
       "      <th>vitamin-e_100g</th>\n",
       "      <th>vitamin-k_100g</th>\n",
       "      <th>vitamin-c_100g</th>\n",
       "      <th>vitamin-b1_100g</th>\n",
       "      <th>vitamin-b2_100g</th>\n",
       "      <th>vitamin-pp_100g</th>\n",
       "      <th>vitamin-b6_100g</th>\n",
       "      <th>vitamin-b9_100g</th>\n",
       "      <th>folates_100g</th>\n",
       "      <th>vitamin-b12_100g</th>\n",
       "      <th>biotin_100g</th>\n",
       "      <th>pantothenic-acid_100g</th>\n",
       "      <th>silica_100g</th>\n",
       "      <th>bicarbonate_100g</th>\n",
       "      <th>potassium_100g</th>\n",
       "      <th>chloride_100g</th>\n",
       "      <th>calcium_100g</th>\n",
       "      <th>phosphorus_100g</th>\n",
       "      <th>iron_100g</th>\n",
       "      <th>magnesium_100g</th>\n",
       "      <th>zinc_100g</th>\n",
       "      <th>copper_100g</th>\n",
       "      <th>manganese_100g</th>\n",
       "      <th>fluoride_100g</th>\n",
       "      <th>selenium_100g</th>\n",
       "      <th>chromium_100g</th>\n",
       "      <th>molybdenum_100g</th>\n",
       "      <th>iodine_100g</th>\n",
       "      <th>caffeine_100g</th>\n",
       "      <th>taurine_100g</th>\n",
       "      <th>ph_100g</th>\n",
       "      <th>fruits-vegetables-nuts_100g</th>\n",
       "      <th>fruits-vegetables-nuts-estimate_100g</th>\n",
       "      <th>collagen-meat-protein-ratio_100g</th>\n",
       "      <th>cocoa_100g</th>\n",
       "      <th>chlorophyl_100g</th>\n",
       "      <th>carbon-footprint_100g</th>\n",
       "      <th>nutrition-score-fr_100g</th>\n",
       "      <th>nutrition-score-uk_100g</th>\n",
       "      <th>glycemic-index_100g</th>\n",
       "      <th>water-hardness_100g</th>\n",
       "    </tr>\n",
       "  </thead>\n",
       "  <tbody>\n",
       "    <tr>\n",
       "      <th>176</th>\n",
       "      <td>290616</td>\n",
       "      <td>http://world-en.openfoodfacts.org/product/0000...</td>\n",
       "      <td>b7</td>\n",
       "      <td>1484605978</td>\n",
       "      <td>2017-01-16T22:32:58Z</td>\n",
       "      <td>1484606542</td>\n",
       "      <td>2017-01-16T22:42:22Z</td>\n",
       "      <td>Salade Cesar</td>\n",
       "      <td>Laitue en salade</td>\n",
       "      <td>0.980 kg</td>\n",
       "      <td>Frais</td>\n",
       "      <td>frais</td>\n",
       "      <td>Kirkland Signature</td>\n",
       "      <td>kirkland-signature</td>\n",
       "      <td>Légumes-feuilles</td>\n",
       "      <td>en:plant-based-foods-and-beverages,en:plant-ba...</td>\n",
       "      <td>Plant-based foods and beverages,Plant-based fo...</td>\n",
       "      <td>Québec</td>\n",
       "      <td>quebec</td>\n",
       "      <td>Brossard Québec</td>\n",
       "      <td>brossard-quebec</td>\n",
       "      <td>NaN</td>\n",
       "      <td>NaN</td>\n",
       "      <td>NaN</td>\n",
       "      <td>NaN</td>\n",
       "      <td>NaN</td>\n",
       "      <td>NaN</td>\n",
       "      <td>NaN</td>\n",
       "      <td>NaN</td>\n",
       "      <td>NaN</td>\n",
       "      <td>Costco</td>\n",
       "      <td>Canada</td>\n",
       "      <td>en:canada</td>\n",
       "      <td>Canada</td>\n",
       "      <td>INGREDIENTS : LAITUE. VINAIGRETTE (HUILE DE CA...</td>\n",
       "      <td>NaN</td>\n",
       "      <td>NaN</td>\n",
       "      <td>CONTIENT : OEUF. LAIT. ANCHOIS. SOYA. BLE. SEI...</td>\n",
       "      <td>fr:contient-oeuf-lait-anchois-soya-ble-seigle-...</td>\n",
       "      <td>fr:Contient-oeuf-lait-anchois-soya-ble-seigle-...</td>\n",
       "      <td>100 g</td>\n",
       "      <td>NaN</td>\n",
       "      <td>0.0</td>\n",
       "      <td>[ ingredients -&gt; fr:ingredients  ]  [ laitue-...</td>\n",
       "      <td>NaN</td>\n",
       "      <td>NaN</td>\n",
       "      <td>0.0</td>\n",
       "      <td>NaN</td>\n",
       "      <td>NaN</td>\n",
       "      <td>0.0</td>\n",
       "      <td>NaN</td>\n",
       "      <td>NaN</td>\n",
       "      <td>NaN</td>\n",
       "      <td>c</td>\n",
       "      <td>Fruits and vegetables</td>\n",
       "      <td>Vegetables</td>\n",
       "      <td>en:to-be-checked, en:complete, en:nutrition-fa...</td>\n",
       "      <td>en:to-be-checked,en:complete,en:nutrition-fact...</td>\n",
       "      <td>To be checked,Complete,Nutrition facts complet...</td>\n",
       "      <td>en:plant-based-foods-and-beverages</td>\n",
       "      <td>Plant-based foods and beverages</td>\n",
       "      <td>NaN</td>\n",
       "      <td>NaN</td>\n",
       "      <td>1210.0</td>\n",
       "      <td>NaN</td>\n",
       "      <td>12.0</td>\n",
       "      <td>7.0</td>\n",
       "      <td>NaN</td>\n",
       "      <td>NaN</td>\n",
       "      <td>NaN</td>\n",
       "      <td>NaN</td>\n",
       "      <td>NaN</td>\n",
       "      <td>NaN</td>\n",
       "      <td>NaN</td>\n",
       "      <td>NaN</td>\n",
       "      <td>NaN</td>\n",
       "      <td>NaN</td>\n",
       "      <td>NaN</td>\n",
       "      <td>NaN</td>\n",
       "      <td>NaN</td>\n",
       "      <td>NaN</td>\n",
       "      <td>NaN</td>\n",
       "      <td>NaN</td>\n",
       "      <td>NaN</td>\n",
       "      <td>NaN</td>\n",
       "      <td>NaN</td>\n",
       "      <td>NaN</td>\n",
       "      <td>NaN</td>\n",
       "      <td>NaN</td>\n",
       "      <td>NaN</td>\n",
       "      <td>NaN</td>\n",
       "      <td>NaN</td>\n",
       "      <td>NaN</td>\n",
       "      <td>NaN</td>\n",
       "      <td>NaN</td>\n",
       "      <td>NaN</td>\n",
       "      <td>NaN</td>\n",
       "      <td>NaN</td>\n",
       "      <td>NaN</td>\n",
       "      <td>NaN</td>\n",
       "      <td>0.0560</td>\n",
       "      <td>23.0</td>\n",
       "      <td>0.0</td>\n",
       "      <td>NaN</td>\n",
       "      <td>NaN</td>\n",
       "      <td>NaN</td>\n",
       "      <td>NaN</td>\n",
       "      <td>NaN</td>\n",
       "      <td>NaN</td>\n",
       "      <td>NaN</td>\n",
       "      <td>NaN</td>\n",
       "      <td>2.00</td>\n",
       "      <td>22.00</td>\n",
       "      <td>NaN</td>\n",
       "      <td>NaN</td>\n",
       "      <td>NaN</td>\n",
       "      <td>2.160</td>\n",
       "      <td>0.850</td>\n",
       "      <td>NaN</td>\n",
       "      <td>0.000000</td>\n",
       "      <td>NaN</td>\n",
       "      <td>NaN</td>\n",
       "      <td>NaN</td>\n",
       "      <td>NaN</td>\n",
       "      <td>0.00000</td>\n",
       "      <td>NaN</td>\n",
       "      <td>NaN</td>\n",
       "      <td>NaN</td>\n",
       "      <td>NaN</td>\n",
       "      <td>NaN</td>\n",
       "      <td>NaN</td>\n",
       "      <td>NaN</td>\n",
       "      <td>NaN</td>\n",
       "      <td>NaN</td>\n",
       "      <td>NaN</td>\n",
       "      <td>NaN</td>\n",
       "      <td>NaN</td>\n",
       "      <td>NaN</td>\n",
       "      <td>0.0000</td>\n",
       "      <td>NaN</td>\n",
       "      <td>0.00000</td>\n",
       "      <td>NaN</td>\n",
       "      <td>NaN</td>\n",
       "      <td>NaN</td>\n",
       "      <td>NaN</td>\n",
       "      <td>NaN</td>\n",
       "      <td>NaN</td>\n",
       "      <td>NaN</td>\n",
       "      <td>NaN</td>\n",
       "      <td>NaN</td>\n",
       "      <td>NaN</td>\n",
       "      <td>NaN</td>\n",
       "      <td>NaN</td>\n",
       "      <td>NaN</td>\n",
       "      <td>NaN</td>\n",
       "      <td>NaN</td>\n",
       "      <td>NaN</td>\n",
       "      <td>NaN</td>\n",
       "      <td>NaN</td>\n",
       "      <td>6.0</td>\n",
       "      <td>6.0</td>\n",
       "      <td>NaN</td>\n",
       "      <td>NaN</td>\n",
       "    </tr>\n",
       "    <tr>\n",
       "      <th>177</th>\n",
       "      <td>394710</td>\n",
       "      <td>http://world-en.openfoodfacts.org/product/0000...</td>\n",
       "      <td>b7</td>\n",
       "      <td>1484497370</td>\n",
       "      <td>2017-01-15T16:22:50Z</td>\n",
       "      <td>1484501040</td>\n",
       "      <td>2017-01-15T17:24:00Z</td>\n",
       "      <td>Danoises à la cannelle roulées</td>\n",
       "      <td>Pâtisserie</td>\n",
       "      <td>1.150 kg</td>\n",
       "      <td>Frais</td>\n",
       "      <td>frais</td>\n",
       "      <td>Kirkland Signature</td>\n",
       "      <td>kirkland-signature</td>\n",
       "      <td>Snacks sucrés,Biscuits et gâteaux,Pâtisseries</td>\n",
       "      <td>en:sugary-snacks,en:biscuits-and-cakes,en:past...</td>\n",
       "      <td>Sugary snacks,Biscuits and cakes,Pastries</td>\n",
       "      <td>Québec</td>\n",
       "      <td>quebec</td>\n",
       "      <td>Brossard Québec</td>\n",
       "      <td>brossard-quebec</td>\n",
       "      <td>NaN</td>\n",
       "      <td>NaN</td>\n",
       "      <td>NaN</td>\n",
       "      <td>NaN</td>\n",
       "      <td>NaN</td>\n",
       "      <td>NaN</td>\n",
       "      <td>NaN</td>\n",
       "      <td>NaN</td>\n",
       "      <td>Brossard Québec</td>\n",
       "      <td>Costco</td>\n",
       "      <td>Canada</td>\n",
       "      <td>en:canada</td>\n",
       "      <td>Canada</td>\n",
       "      <td>Ingrédients: Pâte (farine, eau, beurre, sucre,...</td>\n",
       "      <td>NaN</td>\n",
       "      <td>NaN</td>\n",
       "      <td>NaN</td>\n",
       "      <td>NaN</td>\n",
       "      <td>NaN</td>\n",
       "      <td>146 g / 1 danoise</td>\n",
       "      <td>NaN</td>\n",
       "      <td>10.0</td>\n",
       "      <td>[ ingredients -&gt; fr:ingredients  ]  [ pate -&gt;...</td>\n",
       "      <td>en:e1100,en:e170,en:e202,en:e203,en:e300,en:e3...</td>\n",
       "      <td>E1100 - Alpha-Amylase,E170 - Calcium carbonate...</td>\n",
       "      <td>0.0</td>\n",
       "      <td>NaN</td>\n",
       "      <td>NaN</td>\n",
       "      <td>1.0</td>\n",
       "      <td>NaN</td>\n",
       "      <td>huile-vegetale</td>\n",
       "      <td>NaN</td>\n",
       "      <td>NaN</td>\n",
       "      <td>Sugary snacks</td>\n",
       "      <td>Biscuits and cakes</td>\n",
       "      <td>en:to-be-checked, en:complete, en:nutrition-fa...</td>\n",
       "      <td>en:to-be-checked,en:complete,en:nutrition-fact...</td>\n",
       "      <td>To be checked,Complete,Nutrition facts complet...</td>\n",
       "      <td>en:sugary-snacks</td>\n",
       "      <td>Sugary snacks</td>\n",
       "      <td>NaN</td>\n",
       "      <td>NaN</td>\n",
       "      <td>1520.0</td>\n",
       "      <td>NaN</td>\n",
       "      <td>14.4</td>\n",
       "      <td>NaN</td>\n",
       "      <td>NaN</td>\n",
       "      <td>NaN</td>\n",
       "      <td>NaN</td>\n",
       "      <td>NaN</td>\n",
       "      <td>NaN</td>\n",
       "      <td>NaN</td>\n",
       "      <td>NaN</td>\n",
       "      <td>NaN</td>\n",
       "      <td>NaN</td>\n",
       "      <td>NaN</td>\n",
       "      <td>NaN</td>\n",
       "      <td>NaN</td>\n",
       "      <td>NaN</td>\n",
       "      <td>NaN</td>\n",
       "      <td>NaN</td>\n",
       "      <td>NaN</td>\n",
       "      <td>NaN</td>\n",
       "      <td>NaN</td>\n",
       "      <td>NaN</td>\n",
       "      <td>NaN</td>\n",
       "      <td>NaN</td>\n",
       "      <td>NaN</td>\n",
       "      <td>NaN</td>\n",
       "      <td>NaN</td>\n",
       "      <td>NaN</td>\n",
       "      <td>NaN</td>\n",
       "      <td>NaN</td>\n",
       "      <td>NaN</td>\n",
       "      <td>NaN</td>\n",
       "      <td>NaN</td>\n",
       "      <td>NaN</td>\n",
       "      <td>NaN</td>\n",
       "      <td>NaN</td>\n",
       "      <td>0.0411</td>\n",
       "      <td>54.1</td>\n",
       "      <td>28.1</td>\n",
       "      <td>NaN</td>\n",
       "      <td>NaN</td>\n",
       "      <td>NaN</td>\n",
       "      <td>NaN</td>\n",
       "      <td>NaN</td>\n",
       "      <td>NaN</td>\n",
       "      <td>NaN</td>\n",
       "      <td>NaN</td>\n",
       "      <td>2.05</td>\n",
       "      <td>4.79</td>\n",
       "      <td>NaN</td>\n",
       "      <td>NaN</td>\n",
       "      <td>NaN</td>\n",
       "      <td>0.922</td>\n",
       "      <td>0.363</td>\n",
       "      <td>NaN</td>\n",
       "      <td>0.000205</td>\n",
       "      <td>NaN</td>\n",
       "      <td>NaN</td>\n",
       "      <td>NaN</td>\n",
       "      <td>NaN</td>\n",
       "      <td>0.00616</td>\n",
       "      <td>NaN</td>\n",
       "      <td>NaN</td>\n",
       "      <td>NaN</td>\n",
       "      <td>NaN</td>\n",
       "      <td>NaN</td>\n",
       "      <td>NaN</td>\n",
       "      <td>NaN</td>\n",
       "      <td>NaN</td>\n",
       "      <td>NaN</td>\n",
       "      <td>NaN</td>\n",
       "      <td>NaN</td>\n",
       "      <td>NaN</td>\n",
       "      <td>NaN</td>\n",
       "      <td>0.0548</td>\n",
       "      <td>NaN</td>\n",
       "      <td>0.00247</td>\n",
       "      <td>NaN</td>\n",
       "      <td>NaN</td>\n",
       "      <td>NaN</td>\n",
       "      <td>NaN</td>\n",
       "      <td>NaN</td>\n",
       "      <td>NaN</td>\n",
       "      <td>NaN</td>\n",
       "      <td>NaN</td>\n",
       "      <td>NaN</td>\n",
       "      <td>NaN</td>\n",
       "      <td>NaN</td>\n",
       "      <td>NaN</td>\n",
       "      <td>NaN</td>\n",
       "      <td>NaN</td>\n",
       "      <td>NaN</td>\n",
       "      <td>NaN</td>\n",
       "      <td>NaN</td>\n",
       "      <td>NaN</td>\n",
       "      <td>NaN</td>\n",
       "      <td>NaN</td>\n",
       "      <td>NaN</td>\n",
       "      <td>NaN</td>\n",
       "    </tr>\n",
       "  </tbody>\n",
       "</table>\n",
       "</div>"
      ],
      "text/plain": [
       "       code                                                url creator  \\\n",
       "176  290616  http://world-en.openfoodfacts.org/product/0000...      b7   \n",
       "177  394710  http://world-en.openfoodfacts.org/product/0000...      b7   \n",
       "\n",
       "      created_t      created_datetime last_modified_t last_modified_datetime  \\\n",
       "176  1484605978  2017-01-16T22:32:58Z      1484606542   2017-01-16T22:42:22Z   \n",
       "177  1484497370  2017-01-15T16:22:50Z      1484501040   2017-01-15T17:24:00Z   \n",
       "\n",
       "                       product_name      generic_name  quantity packaging  \\\n",
       "176                    Salade Cesar  Laitue en salade  0.980 kg     Frais   \n",
       "177  Danoises à la cannelle roulées       Pâtisserie   1.150 kg     Frais   \n",
       "\n",
       "    packaging_tags              brands         brands_tags  \\\n",
       "176          frais  Kirkland Signature  kirkland-signature   \n",
       "177          frais  Kirkland Signature  kirkland-signature   \n",
       "\n",
       "                                        categories  \\\n",
       "176                               Légumes-feuilles   \n",
       "177  Snacks sucrés,Biscuits et gâteaux,Pâtisseries   \n",
       "\n",
       "                                       categories_tags  \\\n",
       "176  en:plant-based-foods-and-beverages,en:plant-ba...   \n",
       "177  en:sugary-snacks,en:biscuits-and-cakes,en:past...   \n",
       "\n",
       "                                         categories_en origins origins_tags  \\\n",
       "176  Plant-based foods and beverages,Plant-based fo...  Québec       quebec   \n",
       "177          Sugary snacks,Biscuits and cakes,Pastries  Québec       quebec   \n",
       "\n",
       "    manufacturing_places manufacturing_places_tags labels labels_tags  \\\n",
       "176      Brossard Québec           brossard-quebec    NaN         NaN   \n",
       "177      Brossard Québec           brossard-quebec    NaN         NaN   \n",
       "\n",
       "    labels_en emb_codes emb_codes_tags first_packaging_code_geo cities  \\\n",
       "176       NaN       NaN            NaN                      NaN    NaN   \n",
       "177       NaN       NaN            NaN                      NaN    NaN   \n",
       "\n",
       "    cities_tags  purchase_places  stores countries countries_tags  \\\n",
       "176         NaN              NaN  Costco    Canada      en:canada   \n",
       "177         NaN  Brossard Québec  Costco    Canada      en:canada   \n",
       "\n",
       "    countries_en                                   ingredients_text allergens  \\\n",
       "176       Canada  INGREDIENTS : LAITUE. VINAIGRETTE (HUILE DE CA...       NaN   \n",
       "177       Canada  Ingrédients: Pâte (farine, eau, beurre, sucre,...       NaN   \n",
       "\n",
       "    allergens_en                                             traces  \\\n",
       "176          NaN  CONTIENT : OEUF. LAIT. ANCHOIS. SOYA. BLE. SEI...   \n",
       "177          NaN                                                NaN   \n",
       "\n",
       "                                           traces_tags  \\\n",
       "176  fr:contient-oeuf-lait-anchois-soya-ble-seigle-...   \n",
       "177                                                NaN   \n",
       "\n",
       "                                             traces_en       serving_size  \\\n",
       "176  fr:Contient-oeuf-lait-anchois-soya-ble-seigle-...              100 g   \n",
       "177                                                NaN  146 g / 1 danoise   \n",
       "\n",
       "     no_nutriments  additives_n  \\\n",
       "176            NaN          0.0   \n",
       "177            NaN         10.0   \n",
       "\n",
       "                                             additives  \\\n",
       "176   [ ingredients -> fr:ingredients  ]  [ laitue-...   \n",
       "177   [ ingredients -> fr:ingredients  ]  [ pate ->...   \n",
       "\n",
       "                                        additives_tags  \\\n",
       "176                                                NaN   \n",
       "177  en:e1100,en:e170,en:e202,en:e203,en:e300,en:e3...   \n",
       "\n",
       "                                          additives_en  \\\n",
       "176                                                NaN   \n",
       "177  E1100 - Alpha-Amylase,E170 - Calcium carbonate...   \n",
       "\n",
       "     ingredients_from_palm_oil_n  ingredients_from_palm_oil  \\\n",
       "176                          0.0                        NaN   \n",
       "177                          0.0                        NaN   \n",
       "\n",
       "    ingredients_from_palm_oil_tags  ingredients_that_may_be_from_palm_oil_n  \\\n",
       "176                            NaN                                      0.0   \n",
       "177                            NaN                                      1.0   \n",
       "\n",
       "     ingredients_that_may_be_from_palm_oil  \\\n",
       "176                                    NaN   \n",
       "177                                    NaN   \n",
       "\n",
       "    ingredients_that_may_be_from_palm_oil_tags  nutrition_grade_uk  \\\n",
       "176                                        NaN                 NaN   \n",
       "177                             huile-vegetale                 NaN   \n",
       "\n",
       "    nutrition_grade_fr          pnns_groups_1       pnns_groups_2  \\\n",
       "176                  c  Fruits and vegetables          Vegetables   \n",
       "177                NaN          Sugary snacks  Biscuits and cakes   \n",
       "\n",
       "                                                states  \\\n",
       "176  en:to-be-checked, en:complete, en:nutrition-fa...   \n",
       "177  en:to-be-checked, en:complete, en:nutrition-fa...   \n",
       "\n",
       "                                           states_tags  \\\n",
       "176  en:to-be-checked,en:complete,en:nutrition-fact...   \n",
       "177  en:to-be-checked,en:complete,en:nutrition-fact...   \n",
       "\n",
       "                                             states_en  \\\n",
       "176  To be checked,Complete,Nutrition facts complet...   \n",
       "177  To be checked,Complete,Nutrition facts complet...   \n",
       "\n",
       "                          main_category                 main_category_en  \\\n",
       "176  en:plant-based-foods-and-beverages  Plant-based foods and beverages   \n",
       "177                    en:sugary-snacks                    Sugary snacks   \n",
       "\n",
       "    image_url image_small_url  energy_100g  energy-from-fat_100g  fat_100g  \\\n",
       "176       NaN             NaN       1210.0                   NaN      12.0   \n",
       "177       NaN             NaN       1520.0                   NaN      14.4   \n",
       "\n",
       "     saturated-fat_100g  -butyric-acid_100g  -caproic-acid_100g  \\\n",
       "176                 7.0                 NaN                 NaN   \n",
       "177                 NaN                 NaN                 NaN   \n",
       "\n",
       "     -caprylic-acid_100g  -capric-acid_100g  -lauric-acid_100g  \\\n",
       "176                  NaN                NaN                NaN   \n",
       "177                  NaN                NaN                NaN   \n",
       "\n",
       "     -myristic-acid_100g  -palmitic-acid_100g  -stearic-acid_100g  \\\n",
       "176                  NaN                  NaN                 NaN   \n",
       "177                  NaN                  NaN                 NaN   \n",
       "\n",
       "     -arachidic-acid_100g  -behenic-acid_100g  -lignoceric-acid_100g  \\\n",
       "176                   NaN                 NaN                    NaN   \n",
       "177                   NaN                 NaN                    NaN   \n",
       "\n",
       "     -cerotic-acid_100g  -montanic-acid_100g  -melissic-acid_100g  \\\n",
       "176                 NaN                  NaN                  NaN   \n",
       "177                 NaN                  NaN                  NaN   \n",
       "\n",
       "     monounsaturated-fat_100g  polyunsaturated-fat_100g  omega-3-fat_100g  \\\n",
       "176                       NaN                       NaN               NaN   \n",
       "177                       NaN                       NaN               NaN   \n",
       "\n",
       "     -alpha-linolenic-acid_100g  -eicosapentaenoic-acid_100g  \\\n",
       "176                         NaN                          NaN   \n",
       "177                         NaN                          NaN   \n",
       "\n",
       "     -docosahexaenoic-acid_100g  omega-6-fat_100g  -linoleic-acid_100g  \\\n",
       "176                         NaN               NaN                  NaN   \n",
       "177                         NaN               NaN                  NaN   \n",
       "\n",
       "     -arachidonic-acid_100g  -gamma-linolenic-acid_100g  \\\n",
       "176                     NaN                         NaN   \n",
       "177                     NaN                         NaN   \n",
       "\n",
       "     -dihomo-gamma-linolenic-acid_100g  omega-9-fat_100g  -oleic-acid_100g  \\\n",
       "176                                NaN               NaN               NaN   \n",
       "177                                NaN               NaN               NaN   \n",
       "\n",
       "     -elaidic-acid_100g  -gondoic-acid_100g  -mead-acid_100g  \\\n",
       "176                 NaN                 NaN              NaN   \n",
       "177                 NaN                 NaN              NaN   \n",
       "\n",
       "     -erucic-acid_100g  -nervonic-acid_100g  trans-fat_100g  cholesterol_100g  \\\n",
       "176                NaN                  NaN             NaN            0.0560   \n",
       "177                NaN                  NaN             NaN            0.0411   \n",
       "\n",
       "     carbohydrates_100g  sugars_100g  -sucrose_100g  -glucose_100g  \\\n",
       "176                23.0          0.0            NaN            NaN   \n",
       "177                54.1         28.1            NaN            NaN   \n",
       "\n",
       "     -fructose_100g  -lactose_100g  -maltose_100g  -maltodextrins_100g  \\\n",
       "176             NaN            NaN            NaN                  NaN   \n",
       "177             NaN            NaN            NaN                  NaN   \n",
       "\n",
       "     starch_100g  polyols_100g  fiber_100g  proteins_100g  casein_100g  \\\n",
       "176          NaN           NaN        2.00          22.00          NaN   \n",
       "177          NaN           NaN        2.05           4.79          NaN   \n",
       "\n",
       "     serum-proteins_100g  nucleotides_100g  salt_100g  sodium_100g  \\\n",
       "176                  NaN               NaN      2.160        0.850   \n",
       "177                  NaN               NaN      0.922        0.363   \n",
       "\n",
       "     alcohol_100g  vitamin-a_100g  beta-carotene_100g  vitamin-d_100g  \\\n",
       "176           NaN        0.000000                 NaN             NaN   \n",
       "177           NaN        0.000205                 NaN             NaN   \n",
       "\n",
       "     vitamin-e_100g  vitamin-k_100g  vitamin-c_100g  vitamin-b1_100g  \\\n",
       "176             NaN             NaN         0.00000              NaN   \n",
       "177             NaN             NaN         0.00616              NaN   \n",
       "\n",
       "     vitamin-b2_100g  vitamin-pp_100g  vitamin-b6_100g  vitamin-b9_100g  \\\n",
       "176              NaN              NaN              NaN              NaN   \n",
       "177              NaN              NaN              NaN              NaN   \n",
       "\n",
       "     folates_100g  vitamin-b12_100g  biotin_100g  pantothenic-acid_100g  \\\n",
       "176           NaN               NaN          NaN                    NaN   \n",
       "177           NaN               NaN          NaN                    NaN   \n",
       "\n",
       "     silica_100g  bicarbonate_100g  potassium_100g  chloride_100g  \\\n",
       "176          NaN               NaN             NaN            NaN   \n",
       "177          NaN               NaN             NaN            NaN   \n",
       "\n",
       "     calcium_100g  phosphorus_100g  iron_100g  magnesium_100g  zinc_100g  \\\n",
       "176        0.0000              NaN    0.00000             NaN        NaN   \n",
       "177        0.0548              NaN    0.00247             NaN        NaN   \n",
       "\n",
       "     copper_100g  manganese_100g  fluoride_100g  selenium_100g  chromium_100g  \\\n",
       "176          NaN             NaN            NaN            NaN            NaN   \n",
       "177          NaN             NaN            NaN            NaN            NaN   \n",
       "\n",
       "     molybdenum_100g  iodine_100g  caffeine_100g  taurine_100g  ph_100g  \\\n",
       "176              NaN          NaN            NaN           NaN      NaN   \n",
       "177              NaN          NaN            NaN           NaN      NaN   \n",
       "\n",
       "     fruits-vegetables-nuts_100g  fruits-vegetables-nuts-estimate_100g  \\\n",
       "176                          NaN                                   NaN   \n",
       "177                          NaN                                   NaN   \n",
       "\n",
       "     collagen-meat-protein-ratio_100g  cocoa_100g  chlorophyl_100g  \\\n",
       "176                               NaN         NaN              NaN   \n",
       "177                               NaN         NaN              NaN   \n",
       "\n",
       "     carbon-footprint_100g  nutrition-score-fr_100g  nutrition-score-uk_100g  \\\n",
       "176                    NaN                      6.0                      6.0   \n",
       "177                    NaN                      NaN                      NaN   \n",
       "\n",
       "     glycemic-index_100g  water-hardness_100g  \n",
       "176                  NaN                  NaN  \n",
       "177                  NaN                  NaN  "
      ]
     },
     "execution_count": 3,
     "metadata": {},
     "output_type": "execute_result"
    }
   ],
   "source": [
    "df.head(2)"
   ]
  },
  {
   "cell_type": "markdown",
   "metadata": {},
   "source": [
    "Hmm.. looks like a lot of products are from France as their product_names and ingredient_text are in french"
   ]
  },
  {
   "cell_type": "code",
   "execution_count": 4,
   "metadata": {},
   "outputs": [
    {
     "data": {
      "image/png": "[encoded data removed]",
      "text/plain": [
       "<Figure size 1296x432 with 1 Axes>"
      ]
     },
     "metadata": {
      "needs_background": "light"
     },
     "output_type": "display_data"
    }
   ],
   "source": [
    "plt.figure(figsize=(18,6))\n",
    "df.countries_en.value_counts()[df.countries_en.value_counts() > 100].plot(kind='bar')\n",
    "plt.show()"
   ]
  },
  {
   "cell_type": "code",
   "execution_count": 5,
   "metadata": {},
   "outputs": [
    {
     "name": "stdout",
     "output_type": "stream",
     "text": [
      "taking into account only dishes from France: 57662\n",
      "-----------------------\n",
      "Number of final categories: 20\n"
     ]
    }
   ],
   "source": [
    "df = df[df['countries_en'].isin(['France'])]\n",
    "print('taking into account only dishes from France: {}'.format(df.shape[0]))\n",
    "\n",
    "print('-----------------------')\n",
    "N_CLASSES = df.main_category.nunique()\n",
    "print('Number of final categories: {}'.format(N_CLASSES))"
   ]
  },
  {
   "cell_type": "code",
   "execution_count": 6,
   "metadata": {},
   "outputs": [
    {
     "data": {
      "image/png": "[encoded data removed]",
      "text/plain": [
       "<Figure size 1296x432 with 1 Axes>"
      ]
     },
     "metadata": {
      "needs_background": "light"
     },
     "output_type": "display_data"
    }
   ],
   "source": [
    "plt.figure(figsize=(18,6))\n",
    "df.main_category.value_counts(normalize=True).plot(kind='bar')\n",
    "plt.show()"
   ]
  },
  {
   "cell_type": "markdown",
   "metadata": {},
   "source": [
    "## 2. Data preparation"
   ]
  },
  {
   "cell_type": "markdown",
   "metadata": {},
   "source": [
    "Let's take only Product name and Ingredient info columns"
   ]
  },
  {
   "cell_type": "code",
   "execution_count": 7,
   "metadata": {},
   "outputs": [],
   "source": [
    "columns = ['main_category', 'product_name', 'ingredients_text']\n",
    "df = df[columns]"
   ]
  },
  {
   "cell_type": "markdown",
   "metadata": {},
   "source": [
    "### 2.1 Text to lowercase"
   ]
  },
  {
   "cell_type": "code",
   "execution_count": 8,
   "metadata": {},
   "outputs": [],
   "source": [
    "for col in df.columns:\n",
    "    df[col] = df[col].str.lower()"
   ]
  },
  {
   "cell_type": "code",
   "execution_count": 9,
   "metadata": {},
   "outputs": [
    {
     "data": {
      "text/html": [
       "<div>\n",
       "<style scoped>\n",
       "    .dataframe tbody tr th:only-of-type {\n",
       "        vertical-align: middle;\n",
       "    }\n",
       "\n",
       "    .dataframe tbody tr th {\n",
       "        vertical-align: top;\n",
       "    }\n",
       "\n",
       "    .dataframe thead th {\n",
       "        text-align: right;\n",
       "    }\n",
       "</style>\n",
       "<table border=\"1\" class=\"dataframe\">\n",
       "  <thead>\n",
       "    <tr style=\"text-align: right;\">\n",
       "      <th></th>\n",
       "      <th>main_category</th>\n",
       "      <th>product_name</th>\n",
       "      <th>ingredients_text</th>\n",
       "    </tr>\n",
       "  </thead>\n",
       "  <tbody>\n",
       "    <tr>\n",
       "      <th>355977</th>\n",
       "      <td>en:beverages</td>\n",
       "      <td>ma bite</td>\n",
       "      <td>du sperme de la viande du viagra</td>\n",
       "    </tr>\n",
       "    <tr>\n",
       "      <th>355978</th>\n",
       "      <td>en:fats</td>\n",
       "      <td>les schtroumpfs &amp; le village des fille</td>\n",
       "      <td>les schtroumpfs t, les schtroumpfs noirs 2. le...</td>\n",
       "    </tr>\n",
       "    <tr>\n",
       "      <th>355997</th>\n",
       "      <td>en:groceries</td>\n",
       "      <td>gingembre</td>\n",
       "      <td>gingembre</td>\n",
       "    </tr>\n",
       "    <tr>\n",
       "      <th>356017</th>\n",
       "      <td>en:beverages</td>\n",
       "      <td>thé vert earl grey</td>\n",
       "      <td>thé vert, arôme naturel bergamote avec autres ...</td>\n",
       "    </tr>\n",
       "    <tr>\n",
       "      <th>356019</th>\n",
       "      <td>en:meats</td>\n",
       "      <td>rillette d'oie</td>\n",
       "      <td>viande d'oie, graisse de canard, épices, sel, ...</td>\n",
       "    </tr>\n",
       "  </tbody>\n",
       "</table>\n",
       "</div>"
      ],
      "text/plain": [
       "       main_category                            product_name  \\\n",
       "355977  en:beverages                                 ma bite   \n",
       "355978       en:fats  les schtroumpfs & le village des fille   \n",
       "355997  en:groceries                               gingembre   \n",
       "356017  en:beverages                      thé vert earl grey   \n",
       "356019      en:meats                          rillette d'oie   \n",
       "\n",
       "                                         ingredients_text  \n",
       "355977                   du sperme de la viande du viagra  \n",
       "355978  les schtroumpfs t, les schtroumpfs noirs 2. le...  \n",
       "355997                                          gingembre  \n",
       "356017  thé vert, arôme naturel bergamote avec autres ...  \n",
       "356019  viande d'oie, graisse de canard, épices, sel, ...  "
      ]
     },
     "execution_count": 9,
     "metadata": {},
     "output_type": "execute_result"
    }
   ],
   "source": [
    "df.tail(5)"
   ]
  },
  {
   "cell_type": "markdown",
   "metadata": {},
   "source": [
    "### 2.2 Drop specific symbols (_, (, ), etc )"
   ]
  },
  {
   "cell_type": "code",
   "execution_count": 10,
   "metadata": {},
   "outputs": [],
   "source": [
    "for col in df.columns[1:]:\n",
    "    \n",
    "    df[col] = df[col].str.replace('_', '')\n",
    "    df[col] = df[col].str.replace('(', '')\n",
    "    df[col] = df[col].str.replace(')', '')\n",
    "    df[col] = df[col].str.replace(':', '')"
   ]
  },
  {
   "cell_type": "code",
   "execution_count": 11,
   "metadata": {},
   "outputs": [
    {
     "data": {
      "text/html": [
       "<div>\n",
       "<style scoped>\n",
       "    .dataframe tbody tr th:only-of-type {\n",
       "        vertical-align: middle;\n",
       "    }\n",
       "\n",
       "    .dataframe tbody tr th {\n",
       "        vertical-align: top;\n",
       "    }\n",
       "\n",
       "    .dataframe thead th {\n",
       "        text-align: right;\n",
       "    }\n",
       "</style>\n",
       "<table border=\"1\" class=\"dataframe\">\n",
       "  <thead>\n",
       "    <tr style=\"text-align: right;\">\n",
       "      <th></th>\n",
       "      <th>main_category</th>\n",
       "      <th>product_name</th>\n",
       "      <th>ingredients_text</th>\n",
       "    </tr>\n",
       "  </thead>\n",
       "  <tbody>\n",
       "    <tr>\n",
       "      <th>355977</th>\n",
       "      <td>en:beverages</td>\n",
       "      <td>ma bite</td>\n",
       "      <td>du sperme de la viande du viagra</td>\n",
       "    </tr>\n",
       "    <tr>\n",
       "      <th>355978</th>\n",
       "      <td>en:fats</td>\n",
       "      <td>les schtroumpfs &amp; le village des fille</td>\n",
       "      <td>les schtroumpfs t, les schtroumpfs noirs 2. le...</td>\n",
       "    </tr>\n",
       "    <tr>\n",
       "      <th>355997</th>\n",
       "      <td>en:groceries</td>\n",
       "      <td>gingembre</td>\n",
       "      <td>gingembre</td>\n",
       "    </tr>\n",
       "    <tr>\n",
       "      <th>356017</th>\n",
       "      <td>en:beverages</td>\n",
       "      <td>thé vert earl grey</td>\n",
       "      <td>thé vert, arôme naturel bergamote avec autres ...</td>\n",
       "    </tr>\n",
       "    <tr>\n",
       "      <th>356019</th>\n",
       "      <td>en:meats</td>\n",
       "      <td>rillette d'oie</td>\n",
       "      <td>viande d'oie, graisse de canard, épices, sel, ...</td>\n",
       "    </tr>\n",
       "  </tbody>\n",
       "</table>\n",
       "</div>"
      ],
      "text/plain": [
       "       main_category                            product_name  \\\n",
       "355977  en:beverages                                 ma bite   \n",
       "355978       en:fats  les schtroumpfs & le village des fille   \n",
       "355997  en:groceries                               gingembre   \n",
       "356017  en:beverages                      thé vert earl grey   \n",
       "356019      en:meats                          rillette d'oie   \n",
       "\n",
       "                                         ingredients_text  \n",
       "355977                   du sperme de la viande du viagra  \n",
       "355978  les schtroumpfs t, les schtroumpfs noirs 2. le...  \n",
       "355997                                          gingembre  \n",
       "356017  thé vert, arôme naturel bergamote avec autres ...  \n",
       "356019  viande d'oie, graisse de canard, épices, sel, ...  "
      ]
     },
     "execution_count": 11,
     "metadata": {},
     "output_type": "execute_result"
    }
   ],
   "source": [
    "df.tail(5)"
   ]
  },
  {
   "cell_type": "markdown",
   "metadata": {},
   "source": [
    "### 2.3 Replace multiple spaces by a single one, surround non-alphanumeric symbols with spaces"
   ]
  },
  {
   "cell_type": "code",
   "execution_count": 12,
   "metadata": {},
   "outputs": [],
   "source": [
    "def prepare(text):\n",
    "    \"\"\"Note: French words like \"l'amoure\" contains \"'\", that we should not drop or surround by spaces as\n",
    "    it may change the sense of word\"\"\"\n",
    "    \n",
    "    text = ''.join((' {} '.format(word) if not word.isalpha() else word for word in text))\n",
    "    text = re.sub('(\\s+)', ' ', text) #multiple spaces are replaced by single space\n",
    "    return text\n",
    "\n",
    "df['product_name'] = df['product_name'].apply(prepare)\n",
    "df['ingredients_text'] = df['ingredients_text'].apply(prepare)"
   ]
  },
  {
   "cell_type": "code",
   "execution_count": 13,
   "metadata": {},
   "outputs": [
    {
     "data": {
      "text/html": [
       "<div>\n",
       "<style scoped>\n",
       "    .dataframe tbody tr th:only-of-type {\n",
       "        vertical-align: middle;\n",
       "    }\n",
       "\n",
       "    .dataframe tbody tr th {\n",
       "        vertical-align: top;\n",
       "    }\n",
       "\n",
       "    .dataframe thead th {\n",
       "        text-align: right;\n",
       "    }\n",
       "</style>\n",
       "<table border=\"1\" class=\"dataframe\">\n",
       "  <thead>\n",
       "    <tr style=\"text-align: right;\">\n",
       "      <th></th>\n",
       "      <th>main_category</th>\n",
       "      <th>product_name</th>\n",
       "      <th>ingredients_text</th>\n",
       "    </tr>\n",
       "  </thead>\n",
       "  <tbody>\n",
       "    <tr>\n",
       "      <th>355997</th>\n",
       "      <td>en:groceries</td>\n",
       "      <td>gingembre</td>\n",
       "      <td>gingembre</td>\n",
       "    </tr>\n",
       "    <tr>\n",
       "      <th>356017</th>\n",
       "      <td>en:beverages</td>\n",
       "      <td>thé vert earl grey</td>\n",
       "      <td>thé vert , arôme naturel bergamote avec autres...</td>\n",
       "    </tr>\n",
       "    <tr>\n",
       "      <th>356019</th>\n",
       "      <td>en:meats</td>\n",
       "      <td>rillette d ' oie</td>\n",
       "      <td>viande d ' oie , graisse de canard , épices , ...</td>\n",
       "    </tr>\n",
       "  </tbody>\n",
       "</table>\n",
       "</div>"
      ],
      "text/plain": [
       "       main_category        product_name  \\\n",
       "355997  en:groceries           gingembre   \n",
       "356017  en:beverages  thé vert earl grey   \n",
       "356019      en:meats    rillette d ' oie   \n",
       "\n",
       "                                         ingredients_text  \n",
       "355997                                          gingembre  \n",
       "356017  thé vert , arôme naturel bergamote avec autres...  \n",
       "356019  viande d ' oie , graisse de canard , épices , ...  "
      ]
     },
     "execution_count": 13,
     "metadata": {},
     "output_type": "execute_result"
    }
   ],
   "source": [
    "df.tail(3)"
   ]
  },
  {
   "cell_type": "markdown",
   "metadata": {},
   "source": [
    "## 3. Baseline - Naive Bayes"
   ]
  },
  {
   "cell_type": "markdown",
   "metadata": {},
   "source": [
    "### 3.1 Based on only product name"
   ]
  },
  {
   "cell_type": "code",
   "execution_count": 16,
   "metadata": {},
   "outputs": [],
   "source": [
    "X_train, X_test, y_train, y_test = train_test_split(df['product_name'], df['main_category'],\n",
    "                                                    test_size=0.2,\n",
    "                                                    random_state = 42)\n",
    "\n",
    "tfidf = TfidfVectorizer()\n",
    "X_train_tfidf = tfidf.fit_transform(X_train)\n",
    "\n",
    "clf = MultinomialNB().fit(X_train_tfidf, y_train)"
   ]
  },
  {
   "cell_type": "code",
   "execution_count": 17,
   "metadata": {},
   "outputs": [
    {
     "name": "stdout",
     "output_type": "stream",
     "text": [
      "['en:meats']\n"
     ]
    }
   ],
   "source": [
    "print(clf.predict(tfidf.transform([\"rillette d ' oie\"])))   # Утиный паштет"
   ]
  },
  {
   "cell_type": "code",
   "execution_count": 18,
   "metadata": {},
   "outputs": [
    {
     "name": "stdout",
     "output_type": "stream",
     "text": [
      "['en:beverages']\n"
     ]
    }
   ],
   "source": [
    "print(clf.predict(tfidf.transform([\"thé vert earl grey\"])))   # Чай \"Earl grey\""
   ]
  },
  {
   "cell_type": "markdown",
   "metadata": {},
   "source": [
    "**Comment:** Sounds pretty good!\n",
    "- duck pate --> meats\n",
    "- tea --> beverages"
   ]
  },
  {
   "cell_type": "code",
   "execution_count": 19,
   "metadata": {},
   "outputs": [],
   "source": [
    "y_pred = clf.predict(tfidf.transform(X_test))"
   ]
  },
  {
   "cell_type": "code",
   "execution_count": 20,
   "metadata": {},
   "outputs": [
    {
     "data": {
      "image/png": "[encoded data removed]",
      "text/plain": [
       "<Figure size 1152x720 with 2 Axes>"
      ]
     },
     "metadata": {
      "needs_background": "light"
     },
     "output_type": "display_data"
    }
   ],
   "source": [
    "mat = confusion_matrix(y_test, y_pred)\n",
    "\n",
    "fig, ax = plt.subplots(figsize=(16,10))\n",
    "sns.heatmap(mat, annot=True, fmt='d',\n",
    "            xticklabels=np.unique(y_test).tolist(), \n",
    "            yticklabels=np.unique(y_test).tolist()\n",
    "           )\n",
    "plt.ylabel('Actual')\n",
    "plt.xlabel('Predicted')\n",
    "plt.show()"
   ]
  },
  {
   "cell_type": "code",
   "execution_count": 25,
   "metadata": {},
   "outputs": [
    {
     "name": "stdout",
     "output_type": "stream",
     "text": [
      "Test F1-score: 0.66\n",
      "Test accuracy: 0.69\n",
      "--------------------\n",
      "(!) Note that for multiclass classification the lower bound (random guess) is a share of most frequent category.      in our example this share is equal to 0.22\n"
     ]
    }
   ],
   "source": [
    "test_f1_score = metrics.f1_score(y_test, y_pred, average='weighted')\n",
    "test_accuracy = (y_pred == y_test).sum() / len(y_test)\n",
    "\n",
    "print('Test F1-score: {:.2f}'.format(test_f1_score))\n",
    "print('Test accuracy: {:.2f}'.format(test_accuracy))\n",
    "print('--------------------')\n",
    "print('(!) Note that for multiclass classification the lower bound (random guess) is a share of most frequent category.\\\n",
    "      in our example this share is equal to 0.22')"
   ]
  },
  {
   "cell_type": "code",
   "execution_count": 23,
   "metadata": {},
   "outputs": [
    {
     "name": "stderr",
     "output_type": "stream",
     "text": [
      "//anaconda3/envs/nnlp_project/lib/python3.7/site-packages/sklearn/metrics/classification.py:1437: UndefinedMetricWarning: Precision and F-score are ill-defined and being set to 0.0 in labels with no predicted samples.\n",
      "  'precision', 'predicted', average, warn_for)\n"
     ]
    },
    {
     "name": "stdout",
     "output_type": "stream",
     "text": [
      "                                    precision    recall  f1-score   support\n",
      "\n",
      "                      en:beverages       0.75      0.84      0.80      1649\n",
      "                   en:canned-foods       0.82      0.53      0.64       283\n",
      "                        en:dairies       0.70      0.76      0.73       881\n",
      "                       en:desserts       1.00      0.06      0.12       186\n",
      "               en:farming-products       0.94      0.37      0.53        41\n",
      "                           en:fats       0.00      0.00      0.00       151\n",
      "                    en:fresh-foods       0.44      0.21      0.28       639\n",
      "                   en:frozen-foods       0.72      0.18      0.29       278\n",
      "                   en:fruit-juices       0.92      0.28      0.43       245\n",
      "       en:fruit-juices-and-nectars       0.00      0.00      0.00        46\n",
      "                      en:groceries       0.84      0.71      0.77       690\n",
      "                          en:meals       0.55      0.26      0.35       417\n",
      "                          en:meats       0.73      0.87      0.79       817\n",
      "en:plant-based-foods-and-beverages       0.60      0.94      0.73      2619\n",
      "                   en:salty-snacks       0.94      0.48      0.64       302\n",
      "                     en:sandwiches       1.00      0.15      0.25       124\n",
      "                        en:seafood       0.82      0.46      0.59       228\n",
      "                        en:spreads       0.88      0.49      0.63       287\n",
      "                  en:sugary-snacks       0.75      0.85      0.80      1577\n",
      "                     en:sweeteners       1.00      0.05      0.10        73\n",
      "\n",
      "                          accuracy                           0.69     11533\n",
      "                         macro avg       0.72      0.42      0.47     11533\n",
      "                      weighted avg       0.70      0.69      0.66     11533\n",
      "\n"
     ]
    }
   ],
   "source": [
    "print(metrics.classification_report(\n",
    "    y_test, y_pred, \n",
    "    #target_names=df['main)category'].unique()\n",
    "    ))"
   ]
  },
  {
   "cell_type": "markdown",
   "metadata": {},
   "source": [
    "### 3.2 Based on only ingredient info"
   ]
  },
  {
   "cell_type": "code",
   "execution_count": 26,
   "metadata": {},
   "outputs": [
    {
     "name": "stderr",
     "output_type": "stream",
     "text": [
      "//anaconda3/envs/nnlp_project/lib/python3.7/site-packages/sklearn/metrics/classification.py:1437: UndefinedMetricWarning: F-score is ill-defined and being set to 0.0 in labels with no predicted samples.\n",
      "  'precision', 'predicted', average, warn_for)\n",
      "//anaconda3/envs/nnlp_project/lib/python3.7/site-packages/sklearn/metrics/classification.py:1437: UndefinedMetricWarning: Precision and F-score are ill-defined and being set to 0.0 in labels with no predicted samples.\n",
      "  'precision', 'predicted', average, warn_for)\n"
     ]
    },
    {
     "name": "stdout",
     "output_type": "stream",
     "text": [
      "Test F1-score: 0.56\n",
      "Test accuracy: 0.63\n",
      "--------------------\n",
      "(!) Note that for multiclass classification the lower bound (random guess) is a share of most frequent category.      in our example this share is equal to 0.22\n",
      "                                    precision    recall  f1-score   support\n",
      "\n",
      "                      en:beverages       0.74      0.85      0.79      1649\n",
      "                   en:canned-foods       0.87      0.25      0.39       283\n",
      "                        en:dairies       0.68      0.71      0.70       881\n",
      "                       en:desserts       0.00      0.00      0.00       186\n",
      "               en:farming-products       1.00      0.02      0.05        41\n",
      "                           en:fats       0.00      0.00      0.00       151\n",
      "                    en:fresh-foods       0.27      0.09      0.14       639\n",
      "                   en:frozen-foods       0.17      0.00      0.01       278\n",
      "                   en:fruit-juices       1.00      0.01      0.02       245\n",
      "       en:fruit-juices-and-nectars       0.00      0.00      0.00        46\n",
      "                      en:groceries       0.75      0.49      0.59       690\n",
      "                          en:meals       0.38      0.03      0.06       417\n",
      "                          en:meats       0.76      0.91      0.83       817\n",
      "en:plant-based-foods-and-beverages       0.53      0.92      0.67      2619\n",
      "                   en:salty-snacks       1.00      0.03      0.05       302\n",
      "                     en:sandwiches       0.50      0.01      0.02       124\n",
      "                        en:seafood       0.81      0.40      0.54       228\n",
      "                        en:spreads       0.98      0.20      0.33       287\n",
      "                  en:sugary-snacks       0.64      0.92      0.76      1577\n",
      "                     en:sweeteners       0.00      0.00      0.00        73\n",
      "\n",
      "                          accuracy                           0.63     11533\n",
      "                         macro avg       0.55      0.29      0.30     11533\n",
      "                      weighted avg       0.62      0.63      0.56     11533\n",
      "\n"
     ]
    }
   ],
   "source": [
    "X_train, X_test, y_train, y_test = train_test_split(df['ingredients_text'], df['main_category'], \n",
    "                                                    test_size=0.2,\n",
    "                                                    random_state = 42)\n",
    "\n",
    "tfidf = TfidfVectorizer()\n",
    "X_train_tfidf = tfidf.fit_transform(X_train)\n",
    "\n",
    "clf = MultinomialNB().fit(X_train_tfidf, y_train)\n",
    "\n",
    "y_pred = clf.predict(tfidf.transform(X_test))\n",
    "\n",
    "test_f1_score = metrics.f1_score(y_test, y_pred, average='weighted')\n",
    "test_accuracy = (y_pred == y_test).sum() / len(y_test)\n",
    "\n",
    "print('Test F1-score: {:.2f}'.format(test_f1_score))\n",
    "print('Test accuracy: {:.2f}'.format(test_accuracy))\n",
    "print('--------------------')\n",
    "print('(!) Note that for multiclass classification the lower bound (random guess) is a share of most frequent category.\\\n",
    "      in our example this share is equal to 0.22')\n",
    "\n",
    "print(metrics.classification_report(\n",
    "    y_test, y_pred, \n",
    "    #target_names=df['main)category'].unique()\n",
    "    ))"
   ]
  },
  {
   "cell_type": "markdown",
   "metadata": {},
   "source": [
    "## 4. Neural Models"
   ]
  },
  {
   "cell_type": "code",
   "execution_count": 28,
   "metadata": {},
   "outputs": [
    {
     "name": "stdout",
     "output_type": "stream",
     "text": [
      "Total unique tokens : 42951\n",
      "(',', 528018)\n",
      "('de', 246913)\n",
      "('%', 102734)\n",
      "('.', 70936)\n",
      "('1', 58103)\n"
     ]
    }
   ],
   "source": [
    "token_counts = Counter()\n",
    "\n",
    "for name in list(df['product_name'].values):\n",
    "    token_counts.update(name.split(\" \"))\n",
    "for ingredients in list(df['ingredients_text'].values):\n",
    "    token_counts.update(ingredients.split(\" \"))\n",
    "    \n",
    "print(\"Total unique tokens :\", len(token_counts))\n",
    "print('\\n'.join(map(str, token_counts.most_common(n=5))))"
   ]
  },
  {
   "cell_type": "code",
   "execution_count": 29,
   "metadata": {},
   "outputs": [
    {
     "data": {
      "image/png": "[encoded data removed]",
      "text/plain": [
       "<Figure size 432x288 with 1 Axes>"
      ]
     },
     "metadata": {
      "needs_background": "light"
     },
     "output_type": "display_data"
    }
   ],
   "source": [
    "_ = plt.hist(list(token_counts.values()), range=[0, 10**4], bins=30, log=True)\n",
    "plt.xlabel(\"Counts\")\n",
    "plt.title('Token counts distribution')\n",
    "plt.show()"
   ]
  },
  {
   "cell_type": "code",
   "execution_count": 30,
   "metadata": {},
   "outputs": [],
   "source": [
    "MIN_COUNT = 3\n",
    "\n",
    "# List of tokens with count >= MIN_COUNT, and special symbols\n",
    "tokens = [k for k, v in token_counts.items() if v >= MIN_COUNT] \n",
    "\n",
    "UNK, PAD = \"UNK\", \"PAD\"\n",
    "tokens = [UNK, PAD] + tokens\n",
    "\n",
    "# Inverse token dict\n",
    "token_to_id = {x:idx for idx, x in enumerate(tokens)}"
   ]
  },
  {
   "cell_type": "code",
   "execution_count": 31,
   "metadata": {},
   "outputs": [],
   "source": [
    "category_to_idx = {}\n",
    "idx_to_category = {}\n",
    "for idx, category in enumerate(df.main_category.unique().tolist()):\n",
    "    category_to_idx.update({category: idx})\n",
    "    idx_to_category.update({idx: category})"
   ]
  },
  {
   "cell_type": "code",
   "execution_count": 32,
   "metadata": {},
   "outputs": [],
   "source": [
    "df['main_category'] = df['main_category'].map(category_to_idx)"
   ]
  },
  {
   "cell_type": "code",
   "execution_count": 33,
   "metadata": {},
   "outputs": [],
   "source": [
    "# Convert input text to torch matrix\n",
    "\n",
    "UNK_IX, PAD_IX = map(token_to_id.get, [UNK, PAD])\n",
    "\n",
    "def as_matrix(sequences, max_len=30):\n",
    "    \"\"\" Convert a list of tokens into a matrix with padding \"\"\"\n",
    "#     if isinstance(sequences[0], str):\n",
    "#         sequences = list(map(str.split, sequences))\n",
    "        \n",
    "    max_len = min(max(map(len, sequences)), max_len or float('inf'))\n",
    "    matrix = np.full((len(sequences), max_len), np.int32(PAD_IX))\n",
    "    \n",
    "    for i, seq in enumerate(sequences):\n",
    "        row_ix = [token_to_id.get(word, UNK_IX) for word in seq[:max_len]]\n",
    "        matrix[i, :len(row_ix)] = row_ix\n",
    "    \n",
    "    return matrix\n",
    "\n",
    "\n",
    "def generate_batch(data, batch_size=None, replace=True, max_len=None):\n",
    "    \"\"\"Creates a pytorch-friendly dict from the batch data\"\"\"\n",
    "    \n",
    "    if batch_size is not None:\n",
    "        data = data.sample(batch_size, replace=replace)\n",
    "    \n",
    "    batch = {}\n",
    "    for col in TEXT_COLUMNS:\n",
    "        batch[col] = as_matrix(data[col].values, max_len)\n",
    "    \n",
    "    if TARGET_COLUMN in data.columns:\n",
    "        batch[TARGET_COLUMN] = data[TARGET_COLUMN].values\n",
    "    \n",
    "    return batch"
   ]
  },
  {
   "cell_type": "code",
   "execution_count": 34,
   "metadata": {},
   "outputs": [],
   "source": [
    "data_train, data_val = train_test_split(df, test_size=0.2, random_state=42)"
   ]
  },
  {
   "cell_type": "code",
   "execution_count": 35,
   "metadata": {},
   "outputs": [],
   "source": [
    "TEXT_COLUMNS = ['ingredients_text', 'product_name']\n",
    "TARGET_COLUMN = 'main_category'"
   ]
  },
  {
   "cell_type": "code",
   "execution_count": 36,
   "metadata": {},
   "outputs": [],
   "source": [
    "class GlobalMaxPooling(nn.Module):\n",
    "    def __init__(self, dim=-1):\n",
    "        super(self.__class__, self).__init__()\n",
    "        self.dim = dim\n",
    "        \n",
    "    def forward(self, x):\n",
    "        return x.max(dim=self.dim)[0]\n",
    "    \n",
    "    \n",
    "class TitleEncoder(nn.Module):\n",
    "    def __init__(self, n_tokens=len(tokens), out_size=64, embedding_type='linear'):\n",
    "        \"\"\"x -> emb -> conv -> global_max -> relu -> dense\"\"\"\n",
    "        \n",
    "        super(self.__class__, self).__init__()\n",
    "        \n",
    "        self.embedding_type=embedding_type\n",
    "        self.emb = nn.Embedding(n_tokens, 64, padding_idx=PAD_IX)\n",
    "        \n",
    "        # For LSTM\n",
    "        if embedding_type == 'bidirectional_lstm':\n",
    "            self.lstm = nn.LSTM(input_size=64, hidden_size=32, num_layers=1, batch_first=True, bidirectional=True)\n",
    "            self.conv1 = nn.Conv1d(64, out_size, kernel_size=3, padding=1)\n",
    "        \n",
    "        # For Linear\n",
    "        if embedding_type == 'linear':\n",
    "            self.conv1 = nn.Conv1d(64, out_size, kernel_size=3, padding=1)\n",
    "            \n",
    "        self.pool1 = GlobalMaxPooling()        \n",
    "        self.dense = nn.Linear(out_size, out_size)\n",
    "        self.relu = nn.ReLU()\n",
    "\n",
    "    def forward(self, text_ix):\n",
    "\n",
    "        h = self.emb(text_ix)\n",
    "        \n",
    "        if self.embedding_type == 'bidirectional_lstm':\n",
    "            h, _ = self.lstm(h)\n",
    "           \n",
    "        h = torch.transpose(h, 1, 2)\n",
    "        h = self.conv1(h)\n",
    "        h = self.pool1(h)\n",
    "        h = self.relu(h)\n",
    "        h = self.dense(h)\n",
    "            \n",
    "        return h\n",
    "    \n",
    "    \n",
    "class IngredientsEncoder(nn.Module):\n",
    "    def __init__(self, n_tokens=len(tokens), out_size=64, embedding_type='linear'):\n",
    "        \"\"\"x -> emb -> conv -> global_max -> relu -> dense\"\"\"\n",
    "        \n",
    "        super(self.__class__, self).__init__()\n",
    "        \n",
    "        self.embedding_type=embedding_type\n",
    "        self.emb = nn.Embedding(n_tokens, 64, padding_idx=PAD_IX)\n",
    "        \n",
    "        # For LSTM\n",
    "        if embedding_type == 'bidirectional_lstm':\n",
    "            self.lstm = nn.LSTM(input_size=64, hidden_size=32, num_layers=1, batch_first=True, bidirectional=True)\n",
    "            self.conv1 = nn.Conv1d(64, out_size, kernel_size=3, padding=1)\n",
    "        \n",
    "        # For Linear\n",
    "        if embedding_type == 'linear':\n",
    "            self.conv1 = nn.Conv1d(64, out_size, kernel_size=3, padding=1)\n",
    "            \n",
    "        self.pool1 = GlobalMaxPooling()        \n",
    "        self.dense = nn.Linear(out_size, out_size)\n",
    "        self.relu = nn.ReLU()\n",
    "            \n",
    "\n",
    "    def forward(self, text_ix):\n",
    "\n",
    "        h = self.emb(text_ix)\n",
    "        \n",
    "        if self.embedding_type == 'bidirectional_lstm':\n",
    "            h, _ = self.lstm(h)\n",
    "            \n",
    "        h = torch.transpose(h, 1, 2)\n",
    "        h = self.conv1(h)\n",
    "        h = self.pool1(h)\n",
    "        h = self.relu(h)\n",
    "        h = self.dense(h)\n",
    "\n",
    "        return h\n",
    "    \n",
    "    \n",
    "class FullNetwork(nn.Module):\n",
    "    \"\"\"This class does all the steps from (title, ingredients) features -> predicted target\"\"\"\n",
    "    \n",
    "    def __init__(self, n_tokens=len(tokens), n_outputs=N_CLASSES, embedding_type='linear'):\n",
    "        super(self.__class__, self).__init__()\n",
    "        \n",
    "        self.title_encoder = TitleEncoder(embedding_type=embedding_type, out_size=64)\n",
    "        self.ingredients_encoder = IngredientsEncoder(embedding_type=embedding_type, out_size=64)\n",
    "\n",
    "        self.comb1_linear = nn.Linear(64+64, 64)\n",
    "        self.relu = nn.ReLU()\n",
    "        self.comb2_linear = nn.Linear(64, n_outputs)\n",
    "        \n",
    "        \n",
    "    def forward(self, title_ix, desc_ix):\n",
    "        \n",
    "        # process each data source with it's respective encoder\n",
    "        title_h = self.title_encoder(title_ix)\n",
    "        desc_h = self.ingredients_encoder(desc_ix)\n",
    "        \n",
    "        # concatenate all vectors together\n",
    "        joint_h = torch.cat([title_h, desc_h], dim=1)\n",
    "        \n",
    "        joint_h = self.comb1_linear(joint_h)\n",
    "        joint_h = self.relu(joint_h)\n",
    "        joint_h = self.comb2_linear(joint_h)\n",
    "        \n",
    "#         joint_h.exp_()\n",
    "#         joint_h = joint_h / joint_h.sum(dim=1, keepdim=True)\n",
    "        \n",
    "        # No output nonlinearities as we use cross_entropy loss (nn.CrossEntropyLoss)\n",
    "        outputs = F.softmax(joint_h)\n",
    "        return outputs "
   ]
  },
  {
   "cell_type": "code",
   "execution_count": 37,
   "metadata": {},
   "outputs": [],
   "source": [
    "def iterate_minibatches(df, batch_size=32, max_len=None,\n",
    "                        max_batches=None, shuffle=True, verbose=True):\n",
    "    indices = np.arange(len(df))\n",
    "    if shuffle:\n",
    "        indices = np.random.permutation(indices)\n",
    "    if max_batches is not None:\n",
    "        indices = indices[: batch_size * max_batches]\n",
    "        \n",
    "    irange = tnrange if verbose else range\n",
    "    \n",
    "    for start in irange(0, len(indices), batch_size):\n",
    "        yield generate_batch(df.iloc[indices[start : start + batch_size]], max_len=max_len)\n",
    "        \n",
    "        \n",
    "cross_entropy = nn.BCELoss()\n",
    "def loss_func(target, output):\n",
    "    target = torch.nn.functional.one_hot(target, N_CLASSES).float()\n",
    "    loss = cross_entropy(output, target)\n",
    "    return loss"
   ]
  },
  {
   "cell_type": "code",
   "execution_count": 39,
   "metadata": {},
   "outputs": [],
   "source": [
    "def train(model, optimizer):\n",
    "    train_bce_list = []\n",
    "    train_f1_list = []\n",
    "\n",
    "    for epoch_i in range(num_epochs):\n",
    "\n",
    "        print(\"Training:\")\n",
    "        train_loss = train_f1= train_batches = 0    \n",
    "        model.train(True)\n",
    "\n",
    "        for batch in iterate_minibatches(data_train, max_batches=batches_per_epoch):\n",
    "            title_ix = torch.tensor(batch[\"product_name\"], dtype=torch.int64)\n",
    "            ingredients_ix = torch.tensor(batch[\"ingredients_text\"], dtype=torch.int64)\n",
    "            reference = torch.tensor(batch[TARGET_COLUMN])\n",
    "\n",
    "            prediction = model(title_ix, ingredients_ix)\n",
    "            prediction_labels = prediction.argmax(dim=1)\n",
    "\n",
    "            loss = loss_func(reference, prediction)\n",
    "            loss.backward()\n",
    "            opt.step()\n",
    "            opt.zero_grad()\n",
    "\n",
    "            train_loss += loss.data.numpy()  #[0]\n",
    "            train_f1 += metrics.f1_score(reference, prediction_labels, average='weighted')\n",
    "            train_batches += 1\n",
    "\n",
    "\n",
    "        train_bce_list.append(train_loss / train_batches)\n",
    "        train_f1_list.append(train_f1 / train_batches)\n",
    "\n",
    "        clear_output()\n",
    "        fig, ax = plt.subplots(figsize = (20, 6), ncols= 2, nrows = 1)\n",
    "        ax[0].plot(train_bce_list, label = 'Train BCE', color = 'blue')\n",
    "        ax[0].legend()\n",
    "        ax[0].set_ylabel('Train BCE')\n",
    "\n",
    "        ax[1].plot(train_f1_list, label = 'Train F1-score', color = 'blue')\n",
    "        ax[1].legend()\n",
    "        ax[1].set_ylabel('Train F1-score')\n",
    "\n",
    "        plt.show()\n",
    "\n",
    "\n",
    "    print(\"Testing:\")\n",
    "    val_loss = val_f1 = val_batches = 0\n",
    "    model.train(False)\n",
    "\n",
    "    for batch in iterate_minibatches(data_val, shuffle=False):\n",
    "        title_ix = torch.tensor(batch[\"product_name\"], dtype=torch.int64)\n",
    "        ingredients_ix = torch.tensor(batch[\"ingredients_text\"], dtype=torch.int64)\n",
    "        reference = torch.tensor(batch[TARGET_COLUMN])\n",
    "\n",
    "        prediction = model(title_ix, ingredients_ix)\n",
    "        prediction_labels = prediction.argmax(dim=1)\n",
    "\n",
    "        loss = loss_func(reference, prediction)\n",
    "        val_loss += loss.data.numpy()  \n",
    "        val_f1 += metrics.f1_score(reference, prediction_labels, average='weighted')\n",
    "        val_batches += 1\n",
    "\n",
    "    print(\"\\tTest Loss:\\t%.5f\" % (val_loss / val_batches))\n",
    "    print(\"\\tTest F1-score:\\t%.5f\" % (val_f1 / val_batches))\n",
    "    print('\\n\\n')"
   ]
  },
  {
   "cell_type": "markdown",
   "metadata": {},
   "source": [
    "### 4.1 Word Embedding + Conv1D + MaxPooling"
   ]
  },
  {
   "cell_type": "code",
   "execution_count": 40,
   "metadata": {},
   "outputs": [],
   "source": [
    "num_epochs = 50\n",
    "max_len = 30\n",
    "batch_size = 32\n",
    "batches_per_epoch = 100"
   ]
  },
  {
   "cell_type": "code",
   "execution_count": 41,
   "metadata": {},
   "outputs": [],
   "source": [
    "model = FullNetwork(embedding_type='linear')\n",
    "opt = torch.optim.Adam(model.parameters(), \n",
    "                       lr=1e-3, \n",
    "                       weight_decay=1e-5)"
   ]
  },
  {
   "cell_type": "code",
   "execution_count": 42,
   "metadata": {},
   "outputs": [
    {
     "data": {
      "image/png": "[encoded data removed]",
      "text/plain": [
       "<Figure size 1440x432 with 2 Axes>"
      ]
     },
     "metadata": {
      "needs_background": "light"
     },
     "output_type": "display_data"
    },
    {
     "name": "stdout",
     "output_type": "stream",
     "text": [
      "Testing:\n"
     ]
    },
    {
     "data": {
      "application/vnd.jupyter.widget-view+json": {
       "model_id": "1fb456a874b44cd18bfe3fd032200567",
       "version_major": 2,
       "version_minor": 0
      },
      "text/plain": [
       "HBox(children=(FloatProgress(value=0.0, max=361.0), HTML(value='')))"
      ]
     },
     "metadata": {},
     "output_type": "display_data"
    },
    {
     "name": "stdout",
     "output_type": "stream",
     "text": [
      "\n",
      "\tTest Loss:\t0.05822\n",
      "\tTest F1-score:\t0.76388\n",
      "\n",
      "\n",
      "\n"
     ]
    }
   ],
   "source": [
    "train(model, opt)"
   ]
  },
  {
   "cell_type": "markdown",
   "metadata": {},
   "source": [
    "---"
   ]
  },
  {
   "cell_type": "markdown",
   "metadata": {},
   "source": [
    "### 4.2 Biderectional LSTM"
   ]
  },
  {
   "cell_type": "code",
   "execution_count": 43,
   "metadata": {},
   "outputs": [],
   "source": [
    "model_bilstm = FullNetwork(embedding_type='bidirectional_lstm')\n",
    "opt = torch.optim.Adam(model_bilstm.parameters(), \n",
    "                       lr=1e-3, \n",
    "                       weight_decay=1e-5)"
   ]
  },
  {
   "cell_type": "code",
   "execution_count": null,
   "metadata": {},
   "outputs": [
    {
     "data": {
      "image/png": "[encoded data removed]",
      "text/plain": [
       "<Figure size 1440x432 with 2 Axes>"
      ]
     },
     "metadata": {
      "needs_background": "light"
     },
     "output_type": "display_data"
    },
    {
     "name": "stdout",
     "output_type": "stream",
     "text": [
      "Training:\n"
     ]
    },
    {
     "data": {
      "application/vnd.jupyter.widget-view+json": {
       "model_id": "51e9b08705d54623a41f1755f375836a",
       "version_major": 2,
       "version_minor": 0
      },
      "text/plain": [
       "HBox(children=(FloatProgress(value=0.0), HTML(value='')))"
      ]
     },
     "metadata": {},
     "output_type": "display_data"
    }
   ],
   "source": [
    "train(model_bilstm, opt)"
   ]
  },
  {
   "cell_type": "markdown",
   "metadata": {},
   "source": [
    "## 5. Explain model results"
   ]
  },
  {
   "cell_type": "markdown",
   "metadata": {},
   "source": [
    "Let's calculate how dropping a word from Product name or Ingredients info influence model predictions.   \n",
    "I will calculate the norm of difference between predeicted probabilities without dropping a word and with it"
   ]
  },
  {
   "cell_type": "code",
   "execution_count": null,
   "metadata": {},
   "outputs": [],
   "source": [
    "def explain(model, sample, col_name='product_name'):\n",
    "    \"\"\" Computes the effect each word had on model predictions \"\"\"\n",
    "    \n",
    "    sample = pd.DataFrame(sample).T\n",
    "    batch = generate_batch(sample)\n",
    "    title_ix = torch.tensor(batch[\"product_name\"], dtype=torch.int64)\n",
    "    desc_ix = torch.tensor(batch[\"ingredients_text\"], dtype=torch.int64)\n",
    "    \n",
    "    baseline_pred = model(title_ix, desc_ix).detach().numpy()[0]\n",
    "    predictions_without_word = []\n",
    "    \n",
    "    tokens = str(sample[col_name].values[0]).split()\n",
    "    for i in range(len(tokens)):\n",
    "        sample_without_word = pd.DataFrame(sample.copy())\n",
    "        tokens_without_word = tokens.copy()\n",
    "        tokens_without_word[i] = UNK\n",
    "        sample_without_word[col_name].values[0] = ' '.join(tokens_without_word)\n",
    "        batch_without_word = generate_batch(sample_without_word)\n",
    "        \n",
    "        title_ix_without_word = torch.tensor(batch_without_word[\"product_name\"], dtype=torch.int64)\n",
    "        desc_ix_without_word = torch.tensor(batch_without_word[\"ingredients_text\"], dtype=torch.int64)\n",
    "\n",
    "        predictions_without_word.append(model(title_ix_without_word, desc_ix_without_word).detach().numpy()[0])\n",
    "\n",
    "    score_differences = [\n",
    "        ((prediction - baseline_pred)**2).sum().sum() for prediction in predictions_without_word\n",
    "    ]\n",
    "    \n",
    "    return list(zip(tokens, score_differences)) \n",
    "\n",
    "\n",
    "def draw_html(tokens_and_weights, cmap=plt.get_cmap(\"bwr\"), display=True,\n",
    "              token_template=\"\"\"<span style=\"background-color: {color_hex}\">{token}</span>\"\"\",\n",
    "              font_style=\"font-size:14px;\"\n",
    "             ):\n",
    "    \n",
    "    def get_color_hex(weight):\n",
    "        rgba = cmap(1. / (1 + np.exp(weight)), bytes=True)\n",
    "        return '#%02X%02X%02X' % rgba[:3]\n",
    "    \n",
    "    tokens_html = [\n",
    "        token_template.format(token=token, color_hex=get_color_hex(weight))\n",
    "        for token, weight in tokens_and_weights\n",
    "    ]\n",
    "    \n",
    "    \n",
    "    raw_html = \"\"\"<p style=\"{}\">{}</p>\"\"\".format(font_style, ' '.join(tokens_html))\n",
    "    if display:\n",
    "        display_html(HTML(raw_html))\n",
    "        \n",
    "    return raw_html\n",
    "\n",
    "\n",
    "def run_explanation(model, sample):\n",
    "    batch = generate_batch(pd.DataFrame(sample).T)\n",
    "    title_ix = torch.tensor(batch[\"product_name\"], dtype=torch.int64)\n",
    "    desc_ix = torch.tensor(batch[\"ingredients_text\"], dtype=torch.int64)\n",
    "\n",
    "    prediction = model.forward(title_ix, desc_ix).argmax(dim=1).numpy()[0]\n",
    "    prediction_category = idx_to_category[prediction]\n",
    "    true_category = idx_to_category[sample['main_category']]\n",
    "\n",
    "    print('True category:', true_category)\n",
    "    print('Predicted category:', prediction_category)\n",
    "\n",
    "    tokens_and_weights_name = explain(model, sample, \"product_name\")\n",
    "    tokens_and_weights_ingredients = explain(model, sample, \"ingredients_text\")\n",
    "    \n",
    "    sum_weight_name = np.sum([weight for tok, weight in tokens_and_weights_name])\n",
    "    sum_weight_ingredient = np.sum([weight for tok, weight in tokens_and_weights_ingredients])\n",
    "    sum_weight_total = sum_weight_name + sum_weight_ingredient\n",
    "    \n",
    "    draw_html([(tok, weight / sum_weight_total) for tok, weight in tokens_and_weights_name], font_style='font-size:20px;');\n",
    "    draw_html([(tok, weight / sum_weight_total) for tok, weight in tokens_and_weights_ingredients]);\n"
   ]
  },
  {
   "cell_type": "markdown",
   "metadata": {},
   "source": [
    "**Note:**  \n",
    "The effect of dropping is normalized to 100% by dividing \"dropping a word effect\" by sum of ALL effets (from both product name and ingredients test) of word dropping   \n",
    "  \n",
    "So, the darker a word is, the more important it is. Also we can compare Product name & Ingredients importance "
   ]
  },
  {
   "cell_type": "markdown",
   "metadata": {},
   "source": [
    "## Analysis of correct examples"
   ]
  },
  {
   "cell_type": "code",
   "execution_count": null,
   "metadata": {},
   "outputs": [],
   "source": [
    "sample = df.iloc[3, :]\n",
    "\n",
    "run_explanation(model_bilstm, sample)"
   ]
  },
  {
   "cell_type": "markdown",
   "metadata": {},
   "source": [
    "**Comment:** Seems Okay. The model suggests the word thé (tea) the most important"
   ]
  },
  {
   "cell_type": "code",
   "execution_count": null,
   "metadata": {},
   "outputs": [],
   "source": [
    "sample = df.iloc[2, :]\n",
    "\n",
    "run_explanation(model_bilstm, sample)"
   ]
  },
  {
   "cell_type": "markdown",
   "metadata": {},
   "source": [
    "**Comment:** Biscuits and sucre (sugar) are the most important for \"en:sugary-snacks\" category - perfect)"
   ]
  },
  {
   "cell_type": "code",
   "execution_count": null,
   "metadata": {},
   "outputs": [],
   "source": [
    "sample = df.iloc[8, :]\n",
    "\n",
    "run_explanation(model_bilstm, sample)"
   ]
  },
  {
   "cell_type": "markdown",
   "metadata": {},
   "source": [
    "**Comment: (!)**  A perfect example! Product name is a very rare word (7 Up). It is not a dish indeed. But still with ingredients info we can correctly classify it"
   ]
  },
  {
   "cell_type": "code",
   "execution_count": null,
   "metadata": {},
   "outputs": [],
   "source": [
    "sample = df.iloc[16339, :]\n",
    "\n",
    "run_explanation(model_bilstm, sample)"
   ]
  },
  {
   "cell_type": "code",
   "execution_count": null,
   "metadata": {},
   "outputs": [],
   "source": [
    "sample = df.iloc[21542, :]\n",
    "\n",
    "run_explanation(model_bilstm, sample)"
   ]
  },
  {
   "cell_type": "markdown",
   "metadata": {},
   "source": [
    "## Analysis of predictions with errors"
   ]
  },
  {
   "cell_type": "code",
   "execution_count": null,
   "metadata": {},
   "outputs": [],
   "source": [
    "sample = df.iloc[16486, :]\n",
    "\n",
    "run_explanation(model_bilstm, sample)"
   ]
  },
  {
   "cell_type": "markdown",
   "metadata": {},
   "source": [
    "**Comment: (!)**  Predicted category is \"meats\" as the model saw the word \"viande\" (which means meat in french) \n",
    "and the word \"poulet\" (chicken). So, this example is really confusing"
   ]
  },
  {
   "cell_type": "code",
   "execution_count": null,
   "metadata": {},
   "outputs": [],
   "source": [
    "sample = df.iloc[8051, :]\n",
    "\n",
    "run_explanation(model_bilstm, sample)"
   ]
  },
  {
   "cell_type": "markdown",
   "metadata": {},
   "source": [
    "**Comment:**  Also a pretty confusing example: Title is just made of pretty words \"flower of a duck\". Moreover, such\n",
    "words as fleuron (flower), huile (butter), poivre (pepper) do not point on meat category"
   ]
  },
  {
   "cell_type": "markdown",
   "metadata": {},
   "source": [
    "## Just to play with random dishes :)"
   ]
  },
  {
   "cell_type": "code",
   "execution_count": null,
   "metadata": {},
   "outputs": [],
   "source": [
    "i = np.random.randint(len(df)) // 2\n",
    "sample = df.iloc[i, :]\n",
    "print(i)\n",
    "\n",
    "run_explanation(model_bilstm, sample)"
   ]
  },
  {
   "cell_type": "markdown",
   "metadata": {},
   "source": [
    "## 5. Results & Conclusion"
   ]
  },
  {
   "cell_type": "markdown",
   "metadata": {},
   "source": [
    "**Notes on data preprocessing:** \n",
    "- Data preparation and cleansing matters a LOT\n",
    "- Tried to split ingredients text by comma (word = ingredient, that can contain multiple words) - decreased performance. Probably, many ingredients (several words = one ingredient) arte too rare\n",
    "\n",
    "**Notes on model performance:**\n",
    "- **Multinomial NB:** 66% F1-score, NEVER predicts several rare catagories \n",
    "- **Word Embedding + Conv1D + MaxPool (Word embedding)**: performs much better than NB (76% F1 score). Is pretty fast. However, unable to capture word context, which could be important in this task\n",
    "- The best model in terms of F1-score is **Bidirectional LSTM** (F1-score ~ 79%). However, it is the slowest model in terms of both training and prediction. Interseting, that in terms of F1-score Bi-LSTM > Word Embedding >> Multinomial NB. But in terms of training and inference speed Multinomial NB > Word Embedding >> Bi-LSTM. Probably, I should use QRNN, but I found only non-official (not from pytorch.org) implementations which performed strangely (with very high loss variance)\n",
    "\n",
    "**Notes on Neural Models:**\n",
    "- Pretrained embeddings did not work (F1-score decreased a bit). Probably, dataset is very domain-specific. Moreover, data is pretty dirty. For example, sometimes there are english words (not french) or dish logos instead of normal dish names. I tried GLOVE embeddings for french language from https://github.com/HIT-SCIR/ELMoForManyLangs/blob/master/README.md \n",
    "- Bidirectional LSTM yields better score than just word embedding NN, but is much slower\n",
    "- Bidirectional LSTM is able to catch word sence in the context (see model explanation part). I suppose it is the reason for improved performance in comparizon to word embeddings (79% vs 76%)\n",
    "\n",
    "**And finally:**  \n",
    "Use Neural NLP methods - they are really cool and outperform standard methods:)  \n",
    "However, be careful: \n",
    "- Preprocessing data is a must\n",
    "- train models on GPU (8-10x faster)\n",
    "- use optimized layers\n",
    "- Word context matters, so lstms, attention, transfotmers could really improve your models"
   ]
  }
 ],
 "metadata": {
  "kernelspec": {
   "display_name": "Python 3",
   "language": "python",
   "name": "python3"
  },
  "language_info": {
   "codemirror_mode": {
    "name": "ipython",
    "version": 3
   },
   "file_extension": ".py",
   "mimetype": "text/x-python",
   "name": "python",
   "nbconvert_exporter": "python",
   "pygments_lexer": "ipython3",
   "version": "3.7.3"
  },
  "pycharm": {
   "stem_cell": {
    "cell_type": "raw",
    "metadata": {
     "collapsed": false
    },
    "source": []
   }
  }
 },
 "nbformat": 4,
 "nbformat_minor": 1
}
